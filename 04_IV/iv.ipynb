{
  "cells": [
    {
      "cell_type": "markdown",
      "metadata": {},
      "source": [
        "# \ud83d\udd11 Instrumental Variable (2SLS)"
      ]
    },
    {
      "cell_type": "code",
      "metadata": {},
      "execution_count": null,
      "outputs": [],
      "source": [
        "import pandas as pd\n",
        "import numpy as np\n",
        "from linearmodels.iv import IV2SLS\n",
        "df = pd.read_csv(\"../data/simulated_health_data.csv\")\n",
        "np.random.seed(42)\n",
        "df['z'] = np.random.binomial(1, 0.5, len(df))\n",
        "df['treatment_iv'] = np.where(df['z'] == 1, df['treatment'], 0)\n",
        "model = IV2SLS.from_formula(\"outcome ~ 1 + [treatment_iv ~ z]\", data=df).fit()\n",
        "print(model.summary)"
      ]
    }
  ],
  "metadata": {},
  "nbformat": 4,
  "nbformat_minor": 2
}