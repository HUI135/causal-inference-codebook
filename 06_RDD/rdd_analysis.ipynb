{
  "cells": [
    {
      "cell_type": "markdown",
      "metadata": {},
      "source": [
        "# \ud83d\udea6 Regression Discontinuity Design (RDD)"
      ]
    },
    {
      "cell_type": "code",
      "metadata": {},
      "execution_count": null,
      "outputs": [],
      "source": [
        "import pandas as pd\n",
        "import numpy as np\n",
        "import statsmodels.formula.api as smf\n",
        "import matplotlib.pyplot as plt\n",
        "np.random.seed(42)\n",
        "n = 1000\n",
        "df = pd.DataFrame({\n",
        "    'score': np.random.uniform(0, 100, n)\n",
        "})\n",
        "df['treatment'] = (df['score'] >= 50).astype(int)\n",
        "df['outcome'] = 2 * df['treatment'] + 0.1 * df['score'] + np.random.normal(0, 1, n)\n",
        "df['score_centered'] = df['score'] - 50\n",
        "model = smf.ols(\"outcome ~ treatment + score_centered\", data=df).fit()\n",
        "print(model.summary())"
      ]
    }
  ],
  "metadata": {},
  "nbformat": 4,
  "nbformat_minor": 2
}