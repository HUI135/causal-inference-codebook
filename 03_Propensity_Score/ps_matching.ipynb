{
  "cells": [
    {
      "cell_type": "markdown",
      "metadata": {},
      "source": [
        "# \u2696\ufe0f Propensity Score Matching\n",
        "\n",
        "\ucc98\uce58 \ud655\ub960\uc744 \uae30\ubc18\uc73c\ub85c \ub9e4\uce6d\ud558\uc5ec \uc778\uacfc\ud6a8\uacfc\ub97c \ucd94\uc815\ud558\ub294 \ubc29\ubc95\uc785\ub2c8\ub2e4."
      ]
    },
    {
      "cell_type": "code",
      "metadata": {},
      "execution_count": null,
      "outputs": [],
      "source": [
        "import pandas as pd\n",
        "from sklearn.linear_model import LogisticRegression\n",
        "from sklearn.neighbors import NearestNeighbors\n",
        "import statsmodels.api as sm\n",
        "\n",
        "df = pd.read_csv(\"../data/simulated_health_data.csv\")\n",
        "X = df[[\"age\", \"sex\", \"hypertension\"]]\n",
        "y = df[\"treatment\"]\n",
        "ps_model = LogisticRegression().fit(X, y)\n",
        "df[\"pscore\"] = ps_model.predict_proba(X)[:, 1]\n",
        "\n",
        "treated = df[df[\"treatment\"] == 1]\n",
        "control = df[df[\"treatment\"] == 0]\n",
        "nn = NearestNeighbors(n_neighbors=1)\n",
        "nn.fit(control[[\"pscore\"]])\n",
        "_, idx = nn.kneighbors(treated[[\"pscore\"]])\n",
        "matched = pd.concat([treated.reset_index(drop=True), control.iloc[idx.flatten()].reset_index(drop=True)])\n",
        "model = sm.OLS(matched[\"outcome\"], sm.add_constant(matched[\"treatment\"])).fit()\n",
        "model.summary()"
      ]
    }
  ],
  "metadata": {},
  "nbformat": 4,
  "nbformat_minor": 2
}