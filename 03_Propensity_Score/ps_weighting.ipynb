{
  "cells": [
    {
      "cell_type": "markdown",
      "metadata": {},
      "source": [
        "# \ud83c\udfcb\ufe0f Propensity Score Weighting (IPTW)"
      ]
    },
    {
      "cell_type": "code",
      "metadata": {},
      "execution_count": null,
      "outputs": [],
      "source": [
        "import pandas as pd\n",
        "from sklearn.linear_model import LogisticRegression\n",
        "import statsmodels.api as sm\n",
        "\n",
        "df = pd.read_csv(\"../data/simulated_health_data.csv\")\n",
        "X = df[[\"age\", \"sex\", \"hypertension\"]]\n",
        "y = df[\"treatment\"]\n",
        "model = LogisticRegression().fit(X, y)\n",
        "df[\"pscore\"] = model.predict_proba(X)[:, 1]\n",
        "df[\"weight\"] = df[\"treatment\"] / df[\"pscore\"] + (1 - df[\"treatment\"]) / (1 - df[\"pscore\"])\n",
        "\n",
        "reg = sm.WLS(df[\"outcome\"], sm.add_constant(df[\"treatment\"]), weights=df[\"weight\"]).fit()\n",
        "reg.summary()"
      ]
    }
  ],
  "metadata": {},
  "nbformat": 4,
  "nbformat_minor": 2
}