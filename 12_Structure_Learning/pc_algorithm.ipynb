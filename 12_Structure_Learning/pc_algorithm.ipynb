{
  "cells": [
    {
      "cell_type": "markdown",
      "metadata": {},
      "source": [
        "# \ud83d\udcd0 PC \uc54c\uace0\ub9ac\uc998 \uc608\uc81c\n",
        "\n",
        "\uc870\uac74\ubd80 \ub3c5\ub9bd\uc131 \uac80\uc815\uc744 \ud1b5\ud574 DAG\ub97c \ucd94\uc815\ud558\ub294 \ubc29\ubc95\uc785\ub2c8\ub2e4."
      ]
    },
    {
      "cell_type": "code",
      "metadata": {},
      "execution_count": null,
      "outputs": [],
      "source": [
        "import pandas as pd\n",
        "import numpy as np\n",
        "from pgmpy.estimators import PC\n",
        "\n",
        "np.random.seed(42)\n",
        "df = pd.DataFrame()\n",
        "df['X0'] = np.random.normal(size=500)\n",
        "df['X1'] = np.random.normal(size=500)\n",
        "df['X2'] = df['X0'] + np.random.normal(scale=0.1, size=500)\n",
        "df['X3'] = df['X1'] + df['X2'] + np.random.normal(scale=0.1, size=500)\n",
        "\n",
        "pc = PC(data=df)\n",
        "model = pc.estimate(return_type='dag')\n",
        "print(model.edges())"
      ]
    }
  ],
  "metadata": {},
  "nbformat": 4,
  "nbformat_minor": 2
}