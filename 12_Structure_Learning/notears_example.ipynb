{
  "cells": [
    {
      "cell_type": "markdown",
      "metadata": {},
      "source": [
        "# \ud83d\udcd0 NOTEARS - \uad6c\uc870 \ud559\uc2b5 \uc608\uc81c\n",
        "\n",
        "NOTEARS\ub294 \uc5f0\uc18d\ud615 \ub370\uc774\ud130\uc5d0\uc11c \ubbf8\ubd84 \uac00\ub2a5\ud55c \ubc29\uc2dd\uc73c\ub85c DAG\ub97c \ucd94\uc815\ud558\ub294 \uc54c\uace0\ub9ac\uc998\uc785\ub2c8\ub2e4."
      ]
    },
    {
      "cell_type": "code",
      "metadata": {},
      "execution_count": null,
      "outputs": [],
      "source": [
        "import numpy as np\n",
        "from notears.linear import notears_linear\n",
        "\n",
        "np.random.seed(42)\n",
        "n = 500\n",
        "X = np.random.randn(n, 4)\n",
        "X[:, 2] = 0.8 * X[:, 0] + np.random.normal(0, 0.1, n)\n",
        "X[:, 3] = 0.5 * X[:, 1] + 0.3 * X[:, 2] + np.random.normal(0, 0.1, n)\n",
        "\n",
        "W_est = notears_linear(X, lambda1=0.01)\n",
        "print(np.round(W_est, 2))"
      ]
    }
  ],
  "metadata": {},
  "nbformat": 4,
  "nbformat_minor": 2
}