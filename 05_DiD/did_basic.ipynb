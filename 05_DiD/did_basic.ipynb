{
 "cells": [
  {
   "cell_type": "markdown",
   "metadata": {},
   "source": [
    "# 5️⃣ Difference-in-Differences (DiD)\n",
    "\n",
    "두 시점과 두 그룹의 교차항을 이용하여 인과효과를 추정하는 방법입니다."
   ]
  },
  {
   "cell_type": "code",
   "metadata": {},
   "execution_count": null,
   "outputs": [],
   "source": [
    "import pandas as pd\n",
    "import numpy as np\n",
    "import statsmodels.formula.api as smf\n",
    "\n",
    "np.random.seed(42)\n",
    "n = 1000\n",
    "df = pd.DataFrame({\n",
    "    "id": np.arange(n),\n",
    "    "group": np.random.binomial(1, 0.5, n),\n",
    "    "time": np.random.binomial(1, 0.5, n)\n",
    "})\n",
    "df["treatment"] = df["group"] * df["time"]\n",
    "df["outcome"] = 3 * df["treatment"] + 0.5 * df["group"] + 0.2 * df["time"] + np.random.normal(0, 1, n)"
   ]
  },
  {
   "cell_type": "code",
   "metadata": {},
   "execution_count": null,
   "outputs": [],
   "source": [
    "model = smf.ols("outcome ~ group + time + treatment", data=df).fit()\n",
    "model.summary()"
   ]
  }
 ],
 "metadata": {},
 "nbformat": 4,
 "nbformat_minor": 2
}