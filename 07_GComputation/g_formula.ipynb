{
  "cells": [
    {
      "cell_type": "markdown",
      "metadata": {},
      "source": [
        "# \ud83e\uddee G-computation (G-formula)"
      ]
    },
    {
      "cell_type": "code",
      "metadata": {},
      "execution_count": null,
      "outputs": [],
      "source": [
        "import pandas as pd\n",
        "import numpy as np\n",
        "from sklearn.linear_model import LinearRegression\n",
        "df = pd.read_csv(\"../data/simulated_health_data.csv\")\n",
        "X = df[[\"treatment\", \"age\", \"sex\", \"hypertension\"]]\n",
        "y = df[\"outcome\"]\n",
        "model = LinearRegression().fit(X, y)\n",
        "df0 = df.copy(); df0['treatment'] = 0\n",
        "df1 = df.copy(); df1['treatment'] = 1\n",
        "y0 = model.predict(df0[X.columns])\n",
        "y1 = model.predict(df1[X.columns])\n",
        "ate = np.mean(y1 - y0)\n",
        "print(\"ATE:\", ate)"
      ]
    }
  ],
  "metadata": {},
  "nbformat": 4,
  "nbformat_minor": 2
}