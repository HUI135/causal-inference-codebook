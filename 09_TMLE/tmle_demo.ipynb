{
  "cells": [
    {
      "cell_type": "markdown",
      "metadata": {},
      "source": [
        "# \ud83e\udd16 TMLE (Targeted Maximum Likelihood Estimation)"
      ]
    },
    {
      "cell_type": "code",
      "metadata": {},
      "execution_count": null,
      "outputs": [],
      "source": [
        "import pandas as pd\n",
        "from zepid.causal.tmle import TMLE\n",
        "from sklearn.linear_model import LogisticRegression, LinearRegression\n",
        "\n",
        "df = pd.read_csv(\"../data/simulated_health_data.csv\")\n",
        "tmle = TMLE(df, exposure='treatment', outcome='outcome')\n",
        "tmle.exposure_model(\"age + sex + hypertension\", model=LogisticRegression())\n",
        "tmle.outcome_model(\"treatment + age + sex + hypertension\", model=LinearRegression())\n",
        "tmle.fit()\n",
        "print(\"ATE:\", tmle.ate)\n",
        "print(\"CI:\", tmle.ate_ci)"
      ]
    }
  ],
  "metadata": {},
  "nbformat": 4,
  "nbformat_minor": 2
}