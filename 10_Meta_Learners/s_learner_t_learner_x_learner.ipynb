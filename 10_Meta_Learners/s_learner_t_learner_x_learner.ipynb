{
  "cells": [
    {
      "cell_type": "markdown",
      "metadata": {},
      "source": [
        "# \ud83e\udde9 Meta Learners (S/T/X)\n",
        "\n",
        "\uba38\uc2e0\ub7ec\ub2dd \uc608\uce21\uae30\ub97c \uc774\uc6a9\ud558\uc5ec \uc778\uacfc\ud6a8\uacfc(CATE, ATE)\ub97c \ucd94\uc815\ud558\ub294 \ubc29\ubc95\uc785\ub2c8\ub2e4."
      ]
    },
    {
      "cell_type": "code",
      "metadata": {},
      "execution_count": null,
      "outputs": [],
      "source": [
        "import pandas as pd\n",
        "from sklearn.ensemble import RandomForestRegressor\n",
        "from causalml.inference.meta import BaseSClassifier, BaseTClassifier, BaseXClassifier\n",
        "\n",
        "df = pd.read_csv(\"../data/simulated_health_data.csv\")\n",
        "y = df['outcome'].values\n",
        "treatment = df['treatment'].values\n",
        "X = df[['age', 'sex', 'hypertension']].values\n",
        "\n",
        "s_learner = BaseSClassifier(learner=RandomForestRegressor())\n",
        "s_te, _, _ = s_learner.estimate_ate(X=X, treatment=treatment, y=y)\n",
        "print(\"S-learner ATE:\", s_te)\n",
        "\n",
        "t_learner = BaseTClassifier(learner=RandomForestRegressor())\n",
        "t_te, _, _ = t_learner.estimate_ate(X=X, treatment=treatment, y=y)\n",
        "print(\"T-learner ATE:\", t_te)\n",
        "\n",
        "x_learner = BaseXClassifier(learner=RandomForestRegressor())\n",
        "x_te, _, _ = x_learner.estimate_ate(X=X, treatment=treatment, y=y)\n",
        "print(\"X-learner ATE:\", x_te)"
      ]
    }
  ],
  "metadata": {},
  "nbformat": 4,
  "nbformat_minor": 2
}