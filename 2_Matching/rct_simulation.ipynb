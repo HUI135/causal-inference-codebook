{
  "cells": [
    {
      "cell_type": "markdown",
      "metadata": {},
      "source": [
        "# 1\ufe0f\u20e3 \ubb34\uc791\uc704 \ub300\uc870\uad70 \uc2e4\ud5d8 (RCT)\n",
        "\n",
        "RCT\ub294 \uad50\ub780\uc744 \uc81c\uac70\ud560 \uc218 \uc788\ub294 \uac00\uc7a5 \uc774\uc0c1\uc801\uc778 \uc778\uacfc\ucd94\ub860 \ubc29\ubc95\uc785\ub2c8\ub2e4. \uc774 \uc608\uc81c\ub294 \uc644\uc804 \ubb34\uc791\uc704 \ud560\ub2f9\ub41c treatment\ub97c \uc0ac\uc6a9\ud558\uc5ec ATE\ub97c \ucd94\uc815\ud569\ub2c8\ub2e4."
      ]
    },
    {
      "cell_type": "code",
      "metadata": {},
      "execution_count": null,
      "outputs": [],
      "source": [
        "import pandas as pd\n",
        "import numpy as np\n",
        "import statsmodels.api as sm\n",
        "import matplotlib.pyplot as plt\n",
        "\n",
        "df = pd.read_csv(\"../data/simulated_health_data.csv\")\n",
        "np.random.seed(42)\n",
        "df[\"treatment_rct\"] = np.random.binomial(1, 0.5, len(df))"
      ]
    },
    {
      "cell_type": "code",
      "metadata": {},
      "execution_count": null,
      "outputs": [],
      "source": [
        "X = sm.add_constant(df[\"treatment_rct\"])\n",
        "y = df[\"outcome\"]\n",
        "model = sm.OLS(y, X).fit()\n",
        "model.summary()"
      ]
    },
    {
      "cell_type": "code",
      "metadata": {},
      "execution_count": null,
      "outputs": [],
      "source": [
        "plt.hist(df[df[\"treatment_rct\"] == 1][\"outcome\"], alpha=0.6, label=\"Treated\")\n",
        "plt.hist(df[df[\"treatment_rct\"] == 0][\"outcome\"], alpha=0.6, label=\"Control\")\n",
        "plt.xlabel(\"Outcome\")\n",
        "plt.ylabel(\"Count\")\n",
        "plt.title(\"RCT Outcome Distribution\")\n",
        "plt.legend()\n",
        "plt.show()"
      ]
    }
  ],
  "metadata": {},
  "nbformat": 4,
  "nbformat_minor": 2
}