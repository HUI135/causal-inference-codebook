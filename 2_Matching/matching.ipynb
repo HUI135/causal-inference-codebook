{
  "cells": [
    {
      "cell_type": "markdown",
      "metadata": {},
      "source": [
        "# 2\ufe0f\u20e3 Matching - Nearest Neighbor Matching\n",
        "\n",
        "Treatment\uacfc Control group \uac04\uc758 \uacf5\ubcc0\ub7c9 \uc720\uc0ac\uc131\uc744 \uae30\ubc18\uc73c\ub85c \uac00\uc7a5 \uac00\uae4c\uc6b4 \uc30d\uc744 \uc9dd\uc9d3\ub294 \ubc29\ubc95\uc785\ub2c8\ub2e4."
      ]
    },
    {
      "cell_type": "code",
      "metadata": {},
      "execution_count": null,
      "outputs": [],
      "source": [
        "import pandas as pd\n",
        "import numpy as np\n",
        "from sklearn.neighbors import NearestNeighbors\n",
        "import statsmodels.api as sm\n",
        "\n",
        "df = pd.read_csv(\"../data/simulated_health_data.csv\")\n",
        "treated = df[df[\"treatment\"] == 1].copy()\n",
        "control = df[df[\"treatment\"] == 0].copy()\n",
        "\n",
        "covariates = [\"age\", \"sex\", \"hypertension\"]\n",
        "nn = NearestNeighbors(n_neighbors=1)\n",
        "nn.fit(control[covariates])\n",
        "distances, indices = nn.kneighbors(treated[covariates])\n",
        "matched_control = control.iloc[indices.flatten()].copy()\n",
        "matched_df = pd.concat([treated.reset_index(drop=True), matched_control.reset_index(drop=True)])"
      ]
    },
    {
      "cell_type": "code",
      "metadata": {},
      "execution_count": null,
      "outputs": [],
      "source": [
        "X = sm.add_constant(matched_df[\"treatment\"])\n",
        "y = matched_df[\"outcome\"]\n",
        "model = sm.OLS(y, X).fit()\n",
        "model.summary()"
      ]
    }
  ],
  "metadata": {},
  "nbformat": 4,
  "nbformat_minor": 2
}