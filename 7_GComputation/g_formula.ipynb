{
 "cells": [
  {
   "cell_type": "markdown",
   "metadata": {},
   "source": [
    "# 7️⃣ G-computation (G-formula)\n",
    "\n",
    "Outcome model을 통해 두 potential outcomes의 차이를 추정하여 ATE를 계산합니다."
   ]
  },
  {
   "cell_type": "code",
   "metadata": {},
   "execution_count": null,
   "outputs": [],
   "source": [
    "import pandas as pd\n",
    "import numpy as np\n",
    "from sklearn.linear_model import LinearRegression\n",
    "\n",
    "df = pd.read_csv("../data/simulated_health_data.csv")\n",
    "X = df[["treatment", "age", "sex", "hypertension"]]\n",
    "y = df["outcome"]\n",
    "model = LinearRegression().fit(X, y)"
   ]
  },
  {
   "cell_type": "code",
   "metadata": {},
   "execution_count": null,
   "outputs": [],
   "source": [
    "df_0 = df.copy()\n",
    "df_0["treatment"] = 0\n",
    "y0 = model.predict(df_0[["treatment", "age", "sex", "hypertension"]])\n",
    "\n",
    "df_1 = df.copy()\n",
    "df_1["treatment"] = 1\n",
    "y1 = model.predict(df_1[["treatment", "age", "sex", "hypertension"]])\n",
    "\n",
    "ate = np.mean(y1 - y0)\n",
    "print(f"G-computation ATE: {ate:.3f}")"
   ]
  }
 ],
 "metadata": {},
 "nbformat": 4,
 "nbformat_minor": 2
}