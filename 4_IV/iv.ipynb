{
 "cells": [
  {
   "cell_type": "markdown",
   "metadata": {},
   "source": [
    "# 4️⃣ Instrumental Variable (IV) - 2SLS\n",
    "\n",
    "비순응(compliance) 문제가 있는 경우, 무작위 할당된 instrument로 treatment의 인과 효과를 추정합니다."
   ]
  },
  {
   "cell_type": "code",
   "metadata": {},
   "execution_count": null,
   "outputs": [],
   "source": [
    "import pandas as pd\n",
    "import numpy as np\n",
    "from linearmodels.iv import IV2SLS\n",
    "\n",
    "df = pd.read_csv("../data/simulated_health_data.csv")\n",
    "np.random.seed(42)\n",
    "df["z"] = np.random.binomial(1, 0.5, len(df))\n",
    "df["treatment_iv"] = np.where(df["z"] == 1, df["treatment"], 0)"
   ]
  },
  {
   "cell_type": "code",
   "metadata": {},
   "execution_count": null,
   "outputs": [],
   "source": [
    "model = IV2SLS.from_formula("outcome ~ 1 + [treatment_iv ~ z]", data=df).fit()\n",
    "model.summary"
   ]
  }
 ],
 "metadata": {},
 "nbformat": 4,
 "nbformat_minor": 2
}