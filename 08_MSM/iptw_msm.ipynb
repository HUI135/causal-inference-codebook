{
 "cells": [
  {
   "cell_type": "markdown",
   "metadata": {},
   "source": [
    "# 8️⃣ Marginal Structural Models (MSM using IPTW)\n",
    "\n",
    "IPTW를 활용해 시간에 따라 변화하는 처치의 인과효과를 추정하는 방법입니다."
   ]
  },
  {
   "cell_type": "code",
   "metadata": {},
   "execution_count": null,
   "outputs": [],
   "source": [
    "import pandas as pd\n",
    "import numpy as np\n",
    "import statsmodels.api as sm\n",
    "from sklearn.linear_model import LogisticRegression\n",
    "\n",
    "df = pd.read_csv("../data/simulated_health_data.csv")\n",
    "X = df[["age", "sex", "hypertension"]]\n",
    "y = df["treatment"]\n",
    "ps_model = LogisticRegression().fit(X, y)\n",
    "df["pscore"] = ps_model.predict_proba(X)[:, 1]"
   ]
  },
  {
   "cell_type": "code",
   "metadata": {},
   "execution_count": null,
   "outputs": [],
   "source": [
    "df["iptw"] = df["treatment"] / df["pscore"] + (1 - df["treatment"]) / (1 - df["pscore"])\n",
    "X_reg = sm.add_constant(df["treatment"])\n",
    "y_reg = df["outcome"]\n",
    "msm_model = sm.WLS(y_reg, X_reg, weights=df["iptw"]).fit()\n",
    "msm_model.summary()"
   ]
  }
 ],
 "metadata": {},
 "nbformat": 4,
 "nbformat_minor": 2
}