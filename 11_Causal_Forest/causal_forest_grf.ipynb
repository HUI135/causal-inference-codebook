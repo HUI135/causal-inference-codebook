{
  "cells": [
    {
      "cell_type": "markdown",
      "metadata": {},
      "source": [
        "# \ud83c\udf33 Causal Forest\n",
        "\n",
        "`econml` \ud328\ud0a4\uc9c0\ub97c \uc0ac\uc6a9\ud55c \ube44\uc120\ud615 \uc778\uacfc\ucd94\ub860 \ubc29\ubc95\uc785\ub2c8\ub2e4."
      ]
    },
    {
      "cell_type": "code",
      "metadata": {},
      "execution_count": null,
      "outputs": [],
      "source": [
        "import pandas as pd\n",
        "from econml.dml import CausalForestDML\n",
        "from sklearn.ensemble import RandomForestRegressor\n",
        "from sklearn.linear_model import LogisticRegression\n",
        "\n",
        "df = pd.read_csv(\"../data/simulated_health_data.csv\")\n",
        "X = df[[\"age\", \"sex\", \"hypertension\"]]\n",
        "T = df[\"treatment\"]\n",
        "Y = df[\"outcome\"]\n",
        "\n",
        "est = CausalForestDML(model_t=LogisticRegression(), model_y=RandomForestRegressor(),\n",
        "                      n_estimators=100, min_samples_leaf=5, max_depth=10)\n",
        "est.fit(Y, T, X=X)\n",
        "print(\"ATE:\", est.ate(X))\n",
        "print(\"CATE (first 5):\", est.effect(X)[:5])"
      ]
    }
  ],
  "metadata": {},
  "nbformat": 4,
  "nbformat_minor": 2
}