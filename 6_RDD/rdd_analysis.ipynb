{
 "cells": [
  {
   "cell_type": "markdown",
   "metadata": {},
   "source": [
    "# 6️⃣ Regression Discontinuity Design (RDD)\n",
    "\n",
    "RDD는 특정 임계값을 기준으로 처리군과 통제군을 나누어 인과효과를 추정하는 방법입니다."
   ]
  },
  {
   "cell_type": "code",
   "metadata": {},
   "execution_count": null,
   "outputs": [],
   "source": [
    "import pandas as pd\n",
    "import numpy as np\n",
    "import statsmodels.formula.api as smf\n",
    "import matplotlib.pyplot as plt\n",
    "\n",
    "np.random.seed(42)\n",
    "n = 1000\n",
    "df = pd.DataFrame({\n",
    "    "score": np.random.uniform(0, 100, n)\n",
    "})\n",
    "df["treatment"] = (df["score"] >= 50).astype(int)\n",
    "df["outcome"] = 2 * df["treatment"] + 0.1 * df["score"] + np.random.normal(0, 1, n)"
   ]
  },
  {
   "cell_type": "code",
   "metadata": {},
   "execution_count": null,
   "outputs": [],
   "source": [
    "df["score_centered"] = df["score"] - 50\n",
    "model = smf.ols("outcome ~ treatment + score_centered", data=df).fit()\n",
    "model.summary()"
   ]
  },
  {
   "cell_type": "code",
   "metadata": {},
   "execution_count": null,
   "outputs": [],
   "source": [
    "plt.scatter(df["score"], df["outcome"], alpha=0.3, label="Data")\n",
    "plt.axvline(50, color="red", linestyle="--", label="Threshold")\n",
    "plt.xlabel("Score")\n",
    "plt.ylabel("Outcome")\n",
    "plt.title("Regression Discontinuity Design")\n",
    "plt.legend()\n",
    "plt.tight_layout()\n",
    "plt.show()"
   ]
  }
 ],
 "metadata": {},
 "nbformat": 4,
 "nbformat_minor": 2
}