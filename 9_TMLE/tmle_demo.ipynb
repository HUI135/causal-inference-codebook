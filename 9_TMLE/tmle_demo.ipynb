{
 "cells": [
  {
   "cell_type": "markdown",
   "metadata": {},
   "source": [
    "# 9️⃣ Targeted Maximum Likelihood Estimation (TMLE)\n",
    "\n",
    "TMLE은 outcome model과 treatment model을 결합해 bias와 variance를 동시에 줄이는 인과추론 방법입니다."
   ]
  },
  {
   "cell_type": "code",
   "metadata": {},
   "execution_count": null,
   "outputs": [],
   "source": [
    "import pandas as pd\n",
    "import numpy as np\n",
    "from zepid.causal.tmle import TMLE\n",
    "from sklearn.linear_model import LogisticRegression, LinearRegression\n",
    "\n",
    "df = pd.read_csv("../data/simulated_health_data.csv")\n",
    "\n",
    "tmle = TMLE(df, exposure='treatment', outcome='outcome')\n",
    "tmle.exposure_model("age + sex + hypertension", model=LogisticRegression())\n",
    "tmle.outcome_model("treatment + age + sex + hypertension", model=LinearRegression())\n",
    "tmle.fit()\n",
    "print("TMLE ATE:", tmle.ate)\n",
    "print("95% CI:", tmle.ate_ci)"
   ]
  }
 ],
 "metadata": {},
 "nbformat": 4,
 "nbformat_minor": 2
}