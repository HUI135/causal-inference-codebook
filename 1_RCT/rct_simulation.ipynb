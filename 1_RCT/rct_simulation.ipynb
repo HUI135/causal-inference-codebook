{
 "cells": [
  {
   "cell_type": "markdown",
   "metadata": {},
   "source": [
    "# 1️⃣ 무작위 대조군 실험 (RCT)\n",
    "\n",
    "RCT는 교란을 제거할 수 있는 가장 이상적인 인과추론 방법입니다. 이 예제는 완전 무작위 할당된 treatment를 사용하여 ATE를 추정합니다."
   ]
  },
  {
   "cell_type": "code",
   "execution_count": null,
   "metadata": {},
   "outputs": [],
   "source": [
    "import pandas as pd\n",
    "import numpy as np\n",
    "import statsmodels.api as sm\n",
    "import matplotlib.pyplot as plt\n",
    "\n",
    "df = pd.read_csv("../data/simulated_health_data.csv")\n",
    "np.random.seed(42)\n",
    "df["treatment_rct"] = np.random.binomial(1, 0.5, len(df))\n",
    "\n",
    "X = sm.add_constant(df["treatment_rct"])\n",
    "y = df["outcome"]\n",
    "model = sm.OLS(y, X).fit()\n",
    "model.summary()"
   ]
  },
  {
   "cell_type": "code",
   "execution_count": null,
   "metadata": {},
   "outputs": [],
   "source": [
    "plt.hist(df[df["treatment_rct"] == 1]["outcome"], alpha=0.6, label="Treated")\n",
    "plt.hist(df[df["treatment_rct"] == 0]["outcome"], alpha=0.6, label="Control")\n",
    "plt.legend()\n",
    "plt.title("RCT Outcome Distribution")"
   ]
  }
 ],
 "metadata": {},
 "nbformat": 4,
 "nbformat_minor": 2
}